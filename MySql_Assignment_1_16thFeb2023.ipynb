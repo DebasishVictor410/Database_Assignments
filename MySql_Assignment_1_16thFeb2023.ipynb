{
 "cells": [
  {
   "cell_type": "markdown",
   "id": "276043be",
   "metadata": {},
   "source": [
    "### Q1. What is a database? Differentiate between SQL and NoSQL databases.\n"
   ]
  },
  {
   "cell_type": "code",
   "execution_count": 29,
   "id": "07095e42",
   "metadata": {},
   "outputs": [],
   "source": [
    "#### A database is a collection of data whiche it simple to manage and update.\n",
    "#### Data records or files containing information, including as sales transactions, customer information, financial data, and product information, are often aggregated and stored in computer databases.\n",
    "#### Any type of data can be stored, maintained, and access \n",
    "#### By it we It gathered all kinds of data in one location \n",
    "#### so that it can be seen and verified.\n",
    "#### We know that datas stored in different locations \n",
    "#### when when we combined those n a particular place then\n",
    "#### the database holds on one place.\n",
    "#### So, we can say that database is well decorated, well organized\n",
    "#### storing house of data\n",
    "\n",
    "#### Sql means structured query language where Nosql means not only sql\n",
    "#### SQL databases are relational where NoSQL databases are not relational\n",
    "#### SQL databases use structured query language (SQL) for finding info\n",
    "#### and follws a certain predefined schema. \n",
    "#### NoSQL databases are used for unstructured data like \n",
    "#### video,audio,text files ,json data etc.\n",
    "#### It has dynamic schema for these unstructured data\n",
    "#### SQL databases are vertically scalable and NoSQL databases are horizontally\n",
    "#### SQL databases are table oriented\n",
    "#### while NoSQL databases are document based\n",
    "#### like key-value pair or dic like, graph or like wide columns\n",
    "#### Sql database is used when multi-row transactions are needed\n",
    "#### while NoSql is needed for unstructured data where there is no row,column."
   ]
  },
  {
   "cell_type": "markdown",
   "id": "9996cff9",
   "metadata": {},
   "source": [
    "### Q2. What is DDL? Explain why CREATE, DROP, ALTER, and TRUNCATE are used with an example."
   ]
  },
  {
   "cell_type": "code",
   "execution_count": 1,
   "id": "de9af40c",
   "metadata": {},
   "outputs": [
    {
     "name": "stdout",
     "output_type": "stream",
     "text": [
      "('stu_informations',)\n"
     ]
    }
   ],
   "source": [
    "#### DDL means Data defination language\n",
    "#### in database we need sql based database when we need to store data in a \n",
    "#### structured way . For maintain database we need to create database\n",
    "#### after creaing it we need to store data in table \n",
    "#### so we need table. In this case we use create statement \n",
    "#### example ...\n",
    "import mysql.connector as con\n",
    "mydb=con.connect(host=\"localhost\",user='root',password='debVIC97')\n",
    "con_cursor= mydb.cursor()\n",
    "con_cursor.execute('create database if not exists database_practice_1')\n",
    "\n",
    "#### drop command is used to drop any table\n",
    "#### example ...\n",
    "con_cursor.execute('use database_practice_1')\n",
    "con_cursor.execute('SHOW TABLES')\n",
    "show_table=con_cursor.fetchall()\n",
    "for x in show_table:\n",
    "    print(x)\n",
    "con_cursor.execute('drop table stu_informations')"
   ]
  },
  {
   "cell_type": "code",
   "execution_count": 4,
   "id": "fa904b1d",
   "metadata": {},
   "outputs": [
    {
     "data": {
      "text/plain": [
       "[]"
      ]
     },
     "execution_count": 4,
     "metadata": {},
     "output_type": "execute_result"
    }
   ],
   "source": [
    "con_cursor.execute('SHOW TABLES')\n",
    "show_table=con_cursor.fetchall()\n",
    "show_table"
   ]
  },
  {
   "cell_type": "code",
   "execution_count": 5,
   "id": "be0ec3ec",
   "metadata": {},
   "outputs": [
    {
     "name": "stdout",
     "output_type": "stream",
     "text": [
      "[]\n",
      "(101, 'Victor_Bhat', None)\n"
     ]
    }
   ],
   "source": [
    "#### The ALTER TABLE command adds, deletes, or modifies columns in a table\n",
    "#### it also used for adding and deletes various constraints in a table\n",
    "#### example ...\n",
    "con_cursor.execute('create database if not exists database_practice_2')\n",
    "con_cursor.execute('use database_practice_2')\n",
    "con_cursor.execute('SHOW TABLES')\n",
    "print(con_cursor.fetchall())\n",
    "con_cursor.execute(\"create table if not exists stu_informations(id INT, name VARCHAR(25))\")\n",
    "mydb.commit()\n",
    "con_cursor.execute(\"insert into stu_informations values(101,'Victor_Bhat')\")\n",
    "mydb.commit()\n",
    "con_cursor.execute(\"alter table stu_informations add address varchar(25)\")\n",
    "con_cursor.execute(\"select * from stu_informations\")\n",
    "res=con_cursor.fetchall()\n",
    "for x in res:\n",
    "    print(x)"
   ]
  },
  {
   "cell_type": "code",
   "execution_count": 7,
   "id": "bb4073f9",
   "metadata": {},
   "outputs": [
    {
     "name": "stdout",
     "output_type": "stream",
     "text": [
      "(101, 'Victor_Bhat', None)\n",
      "(102, 'Raju', None)\n",
      "(103, 'Raju Lal', None)\n",
      "(102, 'Raju', None)\n",
      "(103, 'Raju Lal', None)\n"
     ]
    }
   ],
   "source": [
    "#### truncate table will delete the inside data of a table\n",
    "#### but willnot delete table\n",
    "#### exapmple ...\n",
    "statement='''insert into stu_informations (id,name) values(102,'Raju'),(103,'Raju Lal');'''\n",
    "con_cursor.execute(statement)\n",
    "mydb.commit()\n",
    "con_cursor.execute(\"select * from stu_informations\")\n",
    "res=con_cursor.fetchall()\n",
    "for x in res:\n",
    "    print(x)"
   ]
  },
  {
   "cell_type": "code",
   "execution_count": 14,
   "id": "11274d16",
   "metadata": {},
   "outputs": [
    {
     "data": {
      "text/plain": [
       "[('stu_informations',)]"
      ]
     },
     "execution_count": 14,
     "metadata": {},
     "output_type": "execute_result"
    }
   ],
   "source": [
    "con_cursor.execute('truncate table stu_informations')\n",
    "mydb.commit()\n",
    "con_cursor.execute(\"select * from stu_informations\")\n",
    "res=con_cursor.fetchall()\n",
    "for x in res:\n",
    "    print(x)\n",
    "con_cursor.execute('SHOW TABLES')\n",
    "show_table=con_cursor.fetchall()\n",
    "show_table"
   ]
  },
  {
   "cell_type": "markdown",
   "id": "796a8e62",
   "metadata": {},
   "source": [
    "### Q3. What is DML? Explain INSERT, UPDATE, and DELETE with an example."
   ]
  },
  {
   "cell_type": "code",
   "execution_count": 15,
   "id": "471d8e77",
   "metadata": {},
   "outputs": [
    {
     "data": {
      "text/plain": [
       "[(101, 'Victor_Bhat')]"
      ]
     },
     "execution_count": 15,
     "metadata": {},
     "output_type": "execute_result"
    }
   ],
   "source": [
    "#### dml means data manipulatation language\n",
    "#### insert will insert data into table\n",
    "#### example ...\n",
    "con_cursor.execute(\"create table if not exists stu_informations_2(id INT, name VARCHAR(25))\")\n",
    "mydb.commit()\n",
    "con_cursor.execute(\"insert into stu_informations_2 values(101,'Victor_Bhat')\")\n",
    "mydb.commit()\n",
    "con_cursor.execute(\"select * from stu_informations_2\")\n",
    "res=con_cursor.fetchall()\n",
    "res"
   ]
  },
  {
   "cell_type": "code",
   "execution_count": 18,
   "id": "95993cd6",
   "metadata": {},
   "outputs": [
    {
     "data": {
      "text/plain": [
       "[(101, 'Victor_Bhat', None, '3.89')]"
      ]
     },
     "execution_count": 18,
     "metadata": {},
     "output_type": "execute_result"
    }
   ],
   "source": [
    "#### update will update table's column information by given rule\n",
    "#### example ...\n",
    "con_cursor.execute(\"alter table stu_informations_2 add result varchar(25)\")\n",
    "con_cursor.execute(\"update stu_informations_2 set result='3.89' where id=101\")\n",
    "con_cursor.execute(\"select * from stu_informations_2\")\n",
    "res=con_cursor.fetchall()\n",
    "res"
   ]
  },
  {
   "cell_type": "code",
   "execution_count": 19,
   "id": "6d8645c4",
   "metadata": {},
   "outputs": [
    {
     "data": {
      "text/plain": [
       "[(101, 'Victor_Bhat', None, '3.89'),\n",
       " (102, 'Vector_Bhat', 'Bangladesh', '3.97')]"
      ]
     },
     "execution_count": 19,
     "metadata": {},
     "output_type": "execute_result"
    }
   ],
   "source": [
    "#### delete will delete records from table\n",
    "#### exapmle ...\n",
    "con_cursor.execute(\"insert into stu_informations_2 values(102,'Vector_Bhat','Bangladesh','3.97')\")\n",
    "con_cursor.execute(\"select * from stu_informations_2\")\n",
    "res=con_cursor.fetchall()\n",
    "res"
   ]
  },
  {
   "cell_type": "code",
   "execution_count": 20,
   "id": "aa37ca3b",
   "metadata": {},
   "outputs": [
    {
     "data": {
      "text/plain": [
       "[(102, 'Vector_Bhat', 'Bangladesh', '3.97')]"
      ]
     },
     "execution_count": 20,
     "metadata": {},
     "output_type": "execute_result"
    }
   ],
   "source": [
    "con_cursor.execute(\"delete from stu_informations_2 where id=101\")\n",
    "con_cursor.execute(\"select * from stu_informations_2\")\n",
    "res=con_cursor.fetchall()\n",
    "res"
   ]
  },
  {
   "cell_type": "markdown",
   "id": "941684a4",
   "metadata": {},
   "source": [
    "### Q4. What is DQL? Explain SELECT with an example.\n"
   ]
  },
  {
   "cell_type": "code",
   "execution_count": 24,
   "id": "418e854d",
   "metadata": {},
   "outputs": [
    {
     "data": {
      "text/plain": [
       "[('Vector_Bhat',)]"
      ]
     },
     "execution_count": 24,
     "metadata": {},
     "output_type": "execute_result"
    }
   ],
   "source": [
    "#### dql means data query language\n",
    "#### select will go to the specified column for a specified table\n",
    "#### and retrive the value\n",
    "####  when we define some condiitions. According to that condition \n",
    "#### it will show result\n",
    "#### example ...\n",
    "con_cursor.execute(\"select name from stu_informations_2 where id=102\")\n",
    "sel_name=con_cursor.fetchall()\n",
    "sel_name\n",
    "#### here first it goes to stu_informations_2 table\n",
    "#### after that it retrives the name for id=102\n",
    "#### here condition is where id=102"
   ]
  },
  {
   "cell_type": "markdown",
   "id": "b9e98aa2",
   "metadata": {},
   "source": [
    "### Q5. Explain Primary Key and Foreign Key."
   ]
  },
  {
   "cell_type": "code",
   "execution_count": 30,
   "id": "81d19a7e",
   "metadata": {},
   "outputs": [],
   "source": [
    "#### A primary key generally focuses on the uniqueness of the table. \n",
    "#### It assures the value in the specific column is unique.\n",
    "#### where A foreign key is used to build a relationship between the two tables\n",
    "#### we can add only one primary key\n",
    "#### Tables can allow more than one foreign key.\n",
    "#### The primary key doesn’t allow null values\n",
    "#### in foreign key we can give multiple null values\n",
    "#### primary key can identify the record uniquely in the database table\n",
    "#### A foreign key is a field in the table that is the primary key \n",
    "#### in another table.\n",
    "#### primary value cannot be removed from the parent table\n",
    "#### here in foreign key restriction cannot be defined as local or tem. tables"
   ]
  },
  {
   "cell_type": "code",
   "execution_count": 31,
   "id": "deb22c15",
   "metadata": {},
   "outputs": [],
   "source": [
    "mydb.close()"
   ]
  },
  {
   "cell_type": "markdown",
   "id": "b2f3ae38",
   "metadata": {},
   "source": [
    "### Q6. Write a python code to connect MySQL to python. Explain the cursor() and execute() method."
   ]
  },
  {
   "cell_type": "code",
   "execution_count": 27,
   "id": "36247d82",
   "metadata": {},
   "outputs": [
    {
     "data": {
      "text/plain": [
       "[('stu_informations',)]"
      ]
     },
     "execution_count": 27,
     "metadata": {},
     "output_type": "execute_result"
    }
   ],
   "source": [
    "#### A cursor is an object which helps to execute the query \n",
    "#### It fetches the records from the database. \n",
    "#### The cursor plays a very vital role in executing query. \n",
    "#### execute() method accepts a MySQL query as a parameter \n",
    "#### and run or executes the given query.\n",
    "\n",
    "#### example\n",
    "mydb=con.connect(host=\"localhost\",user='root',password='debVIC97')\n",
    "con_cursor= mydb.cursor()\n",
    "con_cursor.execute('create database if not exists database_practice_3')\n",
    "con_cursor.execute('use database_practice_3')\n",
    "con_cursor.execute(\"create table if not exists stu_informations(id INT, name VARCHAR(25))\")\n",
    "con_cursor.execute('SHOW TABLES')\n",
    "show_table=con_cursor.fetchall()\n",
    "show_table"
   ]
  },
  {
   "cell_type": "markdown",
   "id": "e34d315c",
   "metadata": {},
   "source": [
    "### Q7. Give the order of execution of SQL clauses in an SQL query."
   ]
  },
  {
   "cell_type": "code",
   "execution_count": 32,
   "id": "d4383ab2",
   "metadata": {},
   "outputs": [],
   "source": [
    "#### suppose its a query ...\n",
    "#### select count(*) from pwskills join url_lists \n",
    "####  on pwskills.cookie = url_lists.cookie \n",
    "####    where pwskills.url ilike '%/article%' \n",
    "####     limit 2;\n",
    "\n",
    "#### order of execution\n",
    "#### from --> join tables for getting database data\n",
    "#### where --> filter the data\n",
    "#### group by --> it actually grouping the columns or aggregate data\n",
    "#### having --> filter that aggregated result\n",
    "#### select --> then select those coumns data\n",
    "#### order by --> manipulate data in asc or desc order\n",
    "#### limit --> limit the data row according to the limit value given"
   ]
  },
  {
   "cell_type": "code",
   "execution_count": null,
   "id": "f05840e7",
   "metadata": {},
   "outputs": [],
   "source": []
  }
 ],
 "metadata": {
  "kernelspec": {
   "display_name": "Python 3 (ipykernel)",
   "language": "python",
   "name": "python3"
  },
  "language_info": {
   "codemirror_mode": {
    "name": "ipython",
    "version": 3
   },
   "file_extension": ".py",
   "mimetype": "text/x-python",
   "name": "python",
   "nbconvert_exporter": "python",
   "pygments_lexer": "ipython3",
   "version": "3.9.13"
  }
 },
 "nbformat": 4,
 "nbformat_minor": 5
}
